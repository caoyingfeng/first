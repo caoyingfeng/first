{
 "cells": [
  {
   "cell_type": "code",
   "execution_count": 1,
   "metadata": {
    "collapsed": true
   },
   "outputs": [],
   "source": [
    "from random import randint\n",
    "mystery = randint(1,100)"
   ]
  },
  {
   "cell_type": "code",
   "execution_count": 2,
   "metadata": {},
   "outputs": [
    {
     "data": {
      "text/plain": [
       "88"
      ]
     },
     "execution_count": 2,
     "metadata": {},
     "output_type": "execute_result"
    }
   ],
   "source": [
    "mystery"
   ]
  },
  {
   "cell_type": "code",
   "execution_count": 5,
   "metadata": {},
   "outputs": [
    {
     "name": "stdout",
     "output_type": "stream",
     "text": [
      "I've thought a number from 1 to 100, You have 3 times to guess it out.\n"
     ]
    }
   ],
   "source": [
    "times = 3\n",
    "print(\"I've thought a number from 1 to 100, You have %s times to guess it out.\" % times)\n",
    "def guess_number(times):\n",
    "    for i in range(0,times):\n",
    "        user_input = int(input(\"Please enter a number:\\n>>>\"))\n",
    "        if user_input == mystery:\n",
    "            print(\"Great,you are right, the number is %s\" %mystery)\n",
    "            break\n",
    "        elif user_input < mystery:\n",
    "            print('Your input number is too small')\n",
    "            print(\"You have %s times left\"%(times-i-1))\n",
    "        else:\n",
    "            print('Your input number is too big')\n",
    "            print(\"You have %s times left\"%(times-i-1))\n",
    "    print('You have no chance')"
   ]
  },
  {
   "cell_type": "code",
   "execution_count": 6,
   "metadata": {},
   "outputs": [
    {
     "name": "stdout",
     "output_type": "stream",
     "text": [
      "Please enter a number:\n",
      ">>>65\n",
      "Your input number is too small\n",
      "You have 2 times left\n",
      "Please enter a number:\n",
      ">>>8\n",
      "Your input number is too small\n",
      "You have 1 times left\n",
      "Please enter a number:\n",
      ">>>88\n",
      "Great,you are right, the number is 88\n",
      "You have no chance\n"
     ]
    }
   ],
   "source": [
    "guess_number(3)"
   ]
  },
  {
   "cell_type": "code",
   "execution_count": 10,
   "metadata": {},
   "outputs": [
    {
     "data": {
      "text/plain": [
       "{'A': 3, 'C': 3, 'G': 3, 'T': 3}"
      ]
     },
     "execution_count": 10,
     "metadata": {},
     "output_type": "execute_result"
    }
   ],
   "source": [
    "DNA = 'ACGTCCAAGGTT'\n",
    "dna_cnt = {a : DNA.count(a) for a in set(DNA)}\n",
    "dna_cnt"
   ]
  },
  {
   "cell_type": "code",
   "execution_count": 13,
   "metadata": {},
   "outputs": [
    {
     "name": "stdout",
     "output_type": "stream",
     "text": [
      "[('x', 2), ('y', 3), ('z', 4)]\n"
     ]
    }
   ],
   "source": [
    "coordinate = ['x','y','z']\n",
    "value = [2,3,4,5]\n",
    "result = zip(coordinate,value)\n",
    "print(list(result))"
   ]
  },
  {
   "cell_type": "code",
   "execution_count": null,
   "metadata": {
    "collapsed": true
   },
   "outputs": [],
   "source": []
  }
 ],
 "metadata": {
  "kernelspec": {
   "display_name": "Python 3",
   "language": "python",
   "name": "python3"
  },
  "language_info": {
   "codemirror_mode": {
    "name": "ipython",
    "version": 3
   },
   "file_extension": ".py",
   "mimetype": "text/x-python",
   "name": "python",
   "nbconvert_exporter": "python",
   "pygments_lexer": "ipython3",
   "version": "3.6.3"
  }
 },
 "nbformat": 4,
 "nbformat_minor": 2
}
